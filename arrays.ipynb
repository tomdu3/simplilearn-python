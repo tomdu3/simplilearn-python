{
 "cells": [
  {
   "cell_type": "markdown",
   "metadata": {},
   "source": [
    "# Arrays\n",
    "\n",
    "- Array is a container that holds multiple values of the same type.\n",
    "  - syntax:\n",
    "    ```python\n",
    "    from array import *\n",
    "    var = array(typecode, [elements])\n",
    "    ```"
   ]
  },
  {
   "cell_type": "code",
   "execution_count": 3,
   "metadata": {},
   "outputs": [
    {
     "name": "stdout",
     "output_type": "stream",
     "text": [
      "array('i', [-1, 2, 3, 4])\n",
      "-1\n",
      "2\n",
      "3\n",
      "4\n",
      "(124026111713840, 4)\n",
      "i\n",
      "3\n"
     ]
    }
   ],
   "source": [
    "from array import *\n",
    "\n",
    "arr = array('i', [-1, 2, 3, 4])\n",
    "print(arr)\n",
    "\n",
    "for el in arr:\n",
    "    print(el)\n",
    "\n",
    "print(arr.buffer_info())  # returns (address, length)\n",
    "print(arr.typecode)\n",
    "print(arr[2])"
   ]
  },
  {
   "cell_type": "markdown",
   "metadata": {},
   "source": [
    "- typecode: can be  'c' for char, 'b' for signed char, 'B' for unsigned char, 'h' for short, 'H' for unsigned short, 'i' for int, 'I' for unsigned int, 'l' for long, 'L' for unsigned long, 'f' for float, 'd' for double.\n",
    "![Table for typecode](assets/images/typecode.png)"
   ]
  },
  {
   "cell_type": "code",
   "execution_count": 2,
   "metadata": {},
   "outputs": [
    {
     "ename": "OverflowError",
     "evalue": "unsigned short is less than minimum",
     "output_type": "error",
     "traceback": [
      "\u001b[0;31m---------------------------------------------------------------------------\u001b[0m",
      "\u001b[0;31mOverflowError\u001b[0m                             Traceback (most recent call last)",
      "Cell \u001b[0;32mIn[2], line 4\u001b[0m\n\u001b[1;32m      1\u001b[0m \u001b[38;5;66;03m# error when we mix types\u001b[39;00m\n\u001b[1;32m      2\u001b[0m \u001b[38;5;28;01mfrom\u001b[39;00m \u001b[38;5;21;01marray\u001b[39;00m \u001b[38;5;28;01mimport\u001b[39;00m \u001b[38;5;241m*\u001b[39m\n\u001b[0;32m----> 4\u001b[0m arr \u001b[38;5;241m=\u001b[39m \u001b[43marray\u001b[49m\u001b[43m(\u001b[49m\u001b[38;5;124;43m'\u001b[39;49m\u001b[38;5;124;43mH\u001b[39;49m\u001b[38;5;124;43m'\u001b[39;49m\u001b[43m,\u001b[49m\u001b[43m \u001b[49m\u001b[43m[\u001b[49m\u001b[38;5;241;43m-\u001b[39;49m\u001b[38;5;241;43m1\u001b[39;49m\u001b[43m,\u001b[49m\u001b[43m \u001b[49m\u001b[38;5;241;43m2\u001b[39;49m\u001b[43m,\u001b[49m\u001b[43m \u001b[49m\u001b[38;5;241;43m3\u001b[39;49m\u001b[43m,\u001b[49m\u001b[43m \u001b[49m\u001b[38;5;241;43m4\u001b[39;49m\u001b[43m]\u001b[49m\u001b[43m)\u001b[49m  \u001b[38;5;66;03m# error because H is unsigned, that means only positive values\u001b[39;00m\n\u001b[1;32m      5\u001b[0m \u001b[38;5;28mprint\u001b[39m(arr)\n",
      "\u001b[0;31mOverflowError\u001b[0m: unsigned short is less than minimum"
     ]
    }
   ],
   "source": [
    "# error when we mix types\n",
    "from array import *\n",
    "\n",
    "arr = array('H', [-1, 2, 3, 4])  # error because H is unsigned, that means only positive values\n",
    "print(arr)"
   ]
  }
 ],
 "metadata": {
  "kernelspec": {
   "display_name": "python312",
   "language": "python",
   "name": "python3"
  },
  "language_info": {
   "codemirror_mode": {
    "name": "ipython",
    "version": 3
   },
   "file_extension": ".py",
   "mimetype": "text/x-python",
   "name": "python",
   "nbconvert_exporter": "python",
   "pygments_lexer": "ipython3",
   "version": "3.12.2"
  }
 },
 "nbformat": 4,
 "nbformat_minor": 2
}

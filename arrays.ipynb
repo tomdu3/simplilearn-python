{
 "cells": [
  {
   "cell_type": "markdown",
   "metadata": {},
   "source": [
    "# Arrays\n",
    "\n",
    "- Array is a container that holds multiple values of the same type.\n",
    "  - syntax:\n",
    "    ```python\n",
    "    from array import *\n",
    "    var = array(typecode, [elements])\n",
    "    ```"
   ]
  },
  {
   "cell_type": "code",
   "execution_count": 4,
   "metadata": {},
   "outputs": [
    {
     "name": "stdout",
     "output_type": "stream",
     "text": [
      "array('i', [-1, 2, 3, 4])\n",
      "-1\n",
      "2\n",
      "3\n",
      "4\n",
      "(131181870486176, 4)\n",
      "i\n"
     ]
    }
   ],
   "source": [
    "from array import *\n",
    "\n",
    "arr = array('i', [-1, 2, 3, 4])\n",
    "print(arr)\n",
    "\n",
    "for el in arr:\n",
    "    print(el)\n",
    "\n",
    "print(arr.buffer_info())\n",
    "print(arr.typecode)"
   ]
  }
 ],
 "metadata": {
  "kernelspec": {
   "display_name": "python312",
   "language": "python",
   "name": "python3"
  },
  "language_info": {
   "codemirror_mode": {
    "name": "ipython",
    "version": 3
   },
   "file_extension": ".py",
   "mimetype": "text/x-python",
   "name": "python",
   "nbconvert_exporter": "python",
   "pygments_lexer": "ipython3",
   "version": "3.12.2"
  }
 },
 "nbformat": 4,
 "nbformat_minor": 2
}

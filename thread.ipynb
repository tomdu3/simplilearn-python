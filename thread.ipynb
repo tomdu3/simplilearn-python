{
 "cells": [
  {
   "cell_type": "markdown",
   "metadata": {},
   "source": [
    "# Thread\n",
    "\n",
    "- Process\n",
    "\n",
    "Proces is an executable instance of a computer program. Anything that can be run on a computer is a process.\n",
    "\n",
    "- Thread\n",
    "\n",
    "Thread is a sequence of instructions in a program that can be executed independently of the remaining program.\n",
    "The point of threading is to make a maximum use of computer resources.\n",
    "\n",
    "- Multithreading\n",
    "Multithreading is the ability of a program to execute multiple threads at the same time.\n",
    "\n"
   ]
  },
  {
   "cell_type": "code",
   "execution_count": 3,
   "metadata": {},
   "outputs": [
    {
     "name": "stdout",
     "output_type": "stream",
     "text": [
      "This is a parent thread\n",
      "This is a child thread\n"
     ]
    }
   ],
   "source": [
    "# 1st way: simple thread example\n",
    "\n",
    "from threading import *\n",
    "\n",
    "def show():\n",
    "    print('This is a child thread')\n",
    "\n",
    "t = Thread(target=show)\n",
    "print('This is a parent thread')\n",
    "t.start()"
   ]
  },
  {
   "cell_type": "code",
   "execution_count": 4,
   "metadata": {},
   "outputs": [
    {
     "name": "stdout",
     "output_type": "stream",
     "text": [
      "This is a child class\n",
      "This is a child class\n",
      "This is a child class\n",
      "This is a child class\n",
      "This is a child class\n"
     ]
    },
    {
     "name": "stdout",
     "output_type": "stream",
     "text": [
      "\n",
      "This is the main thread\n",
      "\n",
      "This is the main thread\n",
      "\n",
      "This is the main thread\n",
      "\n",
      "This is the main thread\n",
      "\n",
      "This is the main thread\n"
     ]
    }
   ],
   "source": [
    "# 2nd way: class thread example\n",
    "from threading import *\n",
    "\n",
    "class MyThread(Thread):\n",
    "    def run(self):\n",
    "        for i in range(5):\n",
    "            print('This is a child class')\n",
    "\n",
    "t = MyThread()\n",
    "t.start()\n",
    "for i in range(5):\n",
    "    print('\\nThis is the main thread')"
   ]
  },
  {
   "cell_type": "markdown",
   "metadata": {},
   "source": [
    "the Output could be something like this:\n",
    "```bash\n",
    "This is a child class\n",
    "\n",
    "This is the main thread\n",
    "\n",
    "This is the main thread\n",
    "\n",
    "This is the main thread\n",
    "\n",
    "This is the main thread\n",
    "This is a child class\n",
    "\n",
    "This is the main thread\n",
    "This is a child class\n",
    "This is a child class\n",
    "This is a child class\n",
    "```"
   ]
  },
  {
   "cell_type": "code",
   "execution_count": 5,
   "metadata": {},
   "outputs": [
    {
     "name": "stdout",
     "output_type": "stream",
     "text": [
      "This is the child thread\n",
      "This is the child thread\n",
      "This is the child thread\n",
      "This is the child thread\n",
      "This is the child thread\n",
      "\n",
      "This is the main thread\n",
      "\n",
      "This is the main thread\n",
      "\n",
      "This is the main thread\n",
      "\n",
      "This is the main thread\n",
      "\n",
      "This is the main thread\n"
     ]
    }
   ],
   "source": [
    "# 3rd way: class thread example\n",
    "from threading import *\n",
    "\n",
    "class Demo:\n",
    "    def show(self):\n",
    "        for i in range(5):\n",
    "            print('This is the child thread')\n",
    "\n",
    "obj = Demo()\n",
    "t = Thread(target=obj.show)\n",
    "t.start()\n",
    "for i in range(5):\n",
    "    print('\\nThis is the main thread')"
   ]
  }
 ],
 "metadata": {
  "kernelspec": {
   "display_name": "python312",
   "language": "python",
   "name": "python3"
  },
  "language_info": {
   "codemirror_mode": {
    "name": "ipython",
    "version": 3
   },
   "file_extension": ".py",
   "mimetype": "text/x-python",
   "name": "python",
   "nbconvert_exporter": "python",
   "pygments_lexer": "ipython3",
   "version": "3.12.2"
  }
 },
 "nbformat": 4,
 "nbformat_minor": 2
}

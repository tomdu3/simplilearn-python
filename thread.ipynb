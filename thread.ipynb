{
 "cells": [
  {
   "cell_type": "markdown",
   "metadata": {},
   "source": [
    "# Thread\n",
    "\n",
    "- Process\n",
    "\n",
    "Proces is an executable instance of a computer program. Anything that can be run on a computer is a process.\n",
    "\n",
    "- Thread\n",
    "\n",
    "Thread is a sequence of instructions in a program that can be executed independently of the remaining program.\n",
    "The point of threading is to make a maximum use of computer resources.\n",
    "\n",
    "- Multithreading\n",
    "Multithreading is the ability of a program to execute multiple threads at the same time.\n",
    "\n"
   ]
  },
  {
   "cell_type": "code",
   "execution_count": 3,
   "metadata": {},
   "outputs": [
    {
     "name": "stdout",
     "output_type": "stream",
     "text": [
      "This is a parent thread\n",
      "This is a child thread\n"
     ]
    }
   ],
   "source": [
    "# 1st way: simple thread example\n",
    "\n",
    "from threading import *\n",
    "\n",
    "def show():\n",
    "    print('This is a child thread')\n",
    "\n",
    "t = Thread(target=show)\n",
    "print('This is a parent thread')\n",
    "t.start()"
   ]
  },
  {
   "cell_type": "code",
   "execution_count": 4,
   "metadata": {},
   "outputs": [
    {
     "name": "stdout",
     "output_type": "stream",
     "text": [
      "This is a child class\n",
      "This is a child class\n",
      "This is a child class\n",
      "This is a child class\n",
      "This is a child class\n"
     ]
    },
    {
     "name": "stdout",
     "output_type": "stream",
     "text": [
      "\n",
      "This is the main thread\n",
      "\n",
      "This is the main thread\n",
      "\n",
      "This is the main thread\n",
      "\n",
      "This is the main thread\n",
      "\n",
      "This is the main thread\n"
     ]
    }
   ],
   "source": [
    "# 2nd way: class thread example\n",
    "from threading import *\n",
    "\n",
    "class MyThread(Thread):\n",
    "    def run(self):\n",
    "        for i in range(5):\n",
    "            print('This is a child class')\n",
    "\n",
    "t = MyThread()\n",
    "t.start()\n",
    "for i in range(5):\n",
    "    print('\\nThis is the main thread')"
   ]
  },
  {
   "cell_type": "markdown",
   "metadata": {},
   "source": [
    "the Output could be something like this:\n",
    "```bash\n",
    "This is a child class\n",
    "\n",
    "This is the main thread\n",
    "\n",
    "This is the main thread\n",
    "\n",
    "This is the main thread\n",
    "\n",
    "This is the main thread\n",
    "This is a child class\n",
    "\n",
    "This is the main thread\n",
    "This is a child class\n",
    "This is a child class\n",
    "This is a child class\n",
    "```"
   ]
  },
  {
   "cell_type": "code",
   "execution_count": 5,
   "metadata": {},
   "outputs": [
    {
     "name": "stdout",
     "output_type": "stream",
     "text": [
      "This is the child thread\n",
      "This is the child thread\n",
      "This is the child thread\n",
      "This is the child thread\n",
      "This is the child thread\n",
      "\n",
      "This is the main thread\n",
      "\n",
      "This is the main thread\n",
      "\n",
      "This is the main thread\n",
      "\n",
      "This is the main thread\n",
      "\n",
      "This is the main thread\n"
     ]
    }
   ],
   "source": [
    "# 3rd way: class thread example\n",
    "from threading import *\n",
    "\n",
    "class Demo:\n",
    "    def show(self):\n",
    "        for i in range(5):\n",
    "            print('This is the child thread')\n",
    "\n",
    "obj = Demo()\n",
    "t = Thread(target=obj.show)\n",
    "t.start()\n",
    "for i in range(5):\n",
    "    print('\\nThis is the main thread')"
   ]
  },
  {
   "cell_type": "markdown",
   "metadata": {},
   "source": [
    "### Context Switch\n",
    "\n",
    "Storing the state of a process or thread and resuming its execution at a later time is called context switching."
   ]
  },
  {
   "cell_type": "markdown",
   "metadata": {},
   "source": [
    "### Muultithreading\n",
    "\n",
    "A model where multiple threads within a process execute independently while sharing the same resources is called multithreading."
   ]
  },
  {
   "cell_type": "code",
   "execution_count": 8,
   "metadata": {},
   "outputs": [
    {
     "name": "stdout",
     "output_type": "stream",
     "text": [
      "1\n",
      "2\n",
      "3\n",
      "4\n",
      "5\n",
      "6\n",
      "7\n",
      "8\n",
      "9\n",
      "10\n",
      "2\n",
      "4\n",
      "6\n",
      "8\n",
      "10\n",
      "12\n",
      "14\n",
      "16\n",
      "18\n",
      "20\n",
      "1\n",
      "4\n",
      "9\n",
      "16\n",
      "25\n",
      "36\n",
      "49\n",
      "64\n",
      "81\n",
      "100\n",
      "This is the main thread.\n"
     ]
    }
   ],
   "source": [
    "from threading import *\n",
    "\n",
    "class Demo:\n",
    "    def num(self):\n",
    "        for i in range(1, 11):\n",
    "            print(i)\n",
    "    \n",
    "    def double(self):\n",
    "        for i in range(1, 11):\n",
    "            print(2 * i)\n",
    "    \n",
    "    def square(self):\n",
    "        for i in range(1, 11):\n",
    "            print(i * i)\n",
    "\n",
    "# we want one iteration of every function to happen one by one\n",
    "obj = Demo()\n",
    "t1 = Thread(target=obj.num)\n",
    "t2 = Thread(target=obj.double)\n",
    "t3 = Thread(target=obj.square)\n",
    "\n",
    "t1.start()\n",
    "t2.start()\n",
    "t3.start()\n",
    "\n",
    "t1.join()\n",
    "t2.join()\n",
    "t3.join()\n",
    "\n",
    "print('This is the main thread.')"
   ]
  },
  {
   "cell_type": "markdown",
   "metadata": {},
   "source": [
    "The problem is that we cannot guarentee that all the threads will be executed in a particular order.\n",
    "\n",
    "To prevent this kind of the output, we can have a sleep function in each thread. The sleep function will make the thread idle for some time. This will be a refactored code:"
   ]
  },
  {
   "cell_type": "code",
   "execution_count": 9,
   "metadata": {},
   "outputs": [
    {
     "name": "stdout",
     "output_type": "stream",
     "text": [
      "1\n",
      "2\n",
      "1\n",
      "2\n",
      "4\n",
      "4\n",
      "6\n",
      "9\n",
      "3\n",
      "816\n",
      "\n",
      "4\n",
      "25\n",
      "5\n",
      "10\n",
      "366\n",
      "\n",
      "12\n",
      "749\n",
      "\n",
      "14\n",
      "64\n",
      "8\n",
      "16\n",
      "81\n",
      "9\n",
      "18\n",
      "100\n",
      "10\n",
      "20\n",
      "This is the main thread.\n"
     ]
    }
   ],
   "source": [
    "import time\n",
    "from threading import *\n",
    "\n",
    "class Demo:\n",
    "    def num(self):\n",
    "        for i in range(1, 11):\n",
    "            print(i)\n",
    "            time.sleep(1)\n",
    "    \n",
    "    def double(self):\n",
    "        for i in range(1, 11):\n",
    "            print(2 * i)\n",
    "            time.sleep(1)\n",
    "\n",
    "    \n",
    "    def square(self):\n",
    "        for i in range(1, 11):\n",
    "            print(i * i)\n",
    "            time.sleep(1)\n",
    "\n",
    "\n",
    "# we want one iteration of every function to happen one by one\n",
    "obj = Demo()\n",
    "t1 = Thread(target=obj.num)\n",
    "t2 = Thread(target=obj.double)\n",
    "t3 = Thread(target=obj.square)\n",
    "\n",
    "t1.start()\n",
    "t2.start()\n",
    "t3.start()\n",
    "\n",
    "t1.join()\n",
    "t2.join()\n",
    "t3.join()\n",
    "\n",
    "print('This is the main thread.')"
   ]
  },
  {
   "cell_type": "markdown",
   "metadata": {},
   "source": [
    "This also hasn't solve the problem. But, we can understand that our problem is in the main thread."
   ]
  },
  {
   "cell_type": "code",
   "execution_count": null,
   "metadata": {},
   "outputs": [],
   "source": [
    "import time\n",
    "from threading import *\n",
    "\n",
    "class Demo:\n",
    "    def num(self):\n",
    "        for i in range(1, 11):\n",
    "            print(i)\n",
    "            time.sleep(1)\n",
    "    \n",
    "    def double(self):\n",
    "        for i in range(1, 11):\n",
    "            print(2 * i)\n",
    "            time.sleep(1)\n",
    "\n",
    "    \n",
    "    def square(self):\n",
    "        for i in range(1, 11):\n",
    "            print(i * i)\n",
    "            time.sleep(1)\n",
    "\n",
    "\n",
    "# we want one iteration of every function to happen one by one\n",
    "obj = Demo()\n",
    "t1 = Thread(target=obj.num)\n",
    "time.sleep(.2)\n",
    "t2 = Thread(target=obj.double)\n",
    "time.sleep(.2)\n",
    "t3 = Thread(target=obj.square)\n",
    "\n",
    "t1.start()\n",
    "t2.start()\n",
    "t3.start()\n",
    "\n",
    "t1.join()\n",
    "t2.join()\n",
    "t3.join()\n",
    "\n",
    "print('This is the main thread.')"
   ]
  }
 ],
 "metadata": {
  "kernelspec": {
   "display_name": "python312",
   "language": "python",
   "name": "python3"
  },
  "language_info": {
   "codemirror_mode": {
    "name": "ipython",
    "version": 3
   },
   "file_extension": ".py",
   "mimetype": "text/x-python",
   "name": "python",
   "nbconvert_exporter": "python",
   "pygments_lexer": "ipython3",
   "version": "3.12.2"
  }
 },
 "nbformat": 4,
 "nbformat_minor": 2
}
